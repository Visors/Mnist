{
 "cells": [
  {
   "metadata": {},
   "cell_type": "markdown",
   "source": "# Mnist MLP",
   "id": "a054e699655ba5c"
  },
  {
   "metadata": {},
   "cell_type": "markdown",
   "source": "## Import Modules",
   "id": "912b6a187a1f1e64"
  },
  {
   "metadata": {
    "ExecuteTime": {
     "end_time": "2025-02-17T04:18:42.397764Z",
     "start_time": "2025-02-17T04:18:42.390325Z"
    }
   },
   "cell_type": "code",
   "source": [
    "import tensorflow as tf\n",
    "import matplotlib.pyplot as plt\n",
    "from tensorflow.keras.datasets import mnist\n",
    "from tensorflow.keras.layers import Dense\n",
    "from tensorflow.keras.models import Sequential\n",
    "import numpy as np\n",
    "from PIL import Image"
   ],
   "id": "dbd52efbe103d40d",
   "outputs": [],
   "execution_count": 116
  },
  {
   "metadata": {},
   "cell_type": "markdown",
   "source": [
    "## Load Data\n",
    "\n",
    "Load the MNIST dataset using the Keras API. Visualize some of the data."
   ],
   "id": "c5bab92b319b3156"
  },
  {
   "metadata": {
    "ExecuteTime": {
     "end_time": "2025-02-17T04:18:42.708852Z",
     "start_time": "2025-02-17T04:18:42.422807Z"
    }
   },
   "cell_type": "code",
   "source": [
    "# Load the MNIST dataset\n",
    "(x_train, y_train), (x_test, y_test) = mnist.load_data()"
   ],
   "id": "4b2b1a3becaadb74",
   "outputs": [],
   "execution_count": 117
  },
  {
   "metadata": {
    "ExecuteTime": {
     "end_time": "2025-02-17T04:18:43.182756Z",
     "start_time": "2025-02-17T04:18:42.747549Z"
    }
   },
   "cell_type": "code",
   "source": [
    "# Visualize some of the data\n",
    "def plot_images(images, labels, title):\n",
    "    plt.figure(figsize=(13, 2))  # Size of the plot\n",
    "    plt.suptitle(title)  # Set the title of the plot\n",
    "    for i in range(10):  # Plot the first 10 images\n",
    "        plt.subplot(1, 10, i + 1)  # Create a subplot with 1 row and 10 columns and select the i+1-th position\n",
    "        plt.imshow(images[i], cmap='gray')  # Show the i-th image in the plot and set the colormap to gray\n",
    "        plt.title(labels[i])  # Set the title of the i-th subplot to the label of the i-th image\n",
    "        plt.axis('off')  # Disable the axis of the plot\n",
    "    plt.show()\n",
    "\n",
    "\n",
    "plot_images(x_train, y_train[:10], \"Training Images\")"
   ],
   "id": "ff1cbb4a6f4a9b53",
   "outputs": [
    {
     "data": {
      "text/plain": [
       "<Figure size 1300x200 with 10 Axes>"
      ],
      "image/png": "[encoded data removed]"
     },
     "metadata": {},
     "output_type": "display_data"
    }
   ],
   "execution_count": 118
  },
  {
   "metadata": {},
   "cell_type": "markdown",
   "source": [
    "## Preprocess Data\n",
    "\n",
    "The MNIST dataset consists of `70,000` `28x28` black-and-white images of handwritten digits extracted from two NIST databases. There are `60,000` images in the training dataset and `10,000` images in the validation dataset, one class per digit so a total of `10` classes, with `7,000` images (`6,000` train images and `1,000` test images) per class. Half of the image were drawn by Census Bureau employees and the other half by high school students (this split is evenly distributed in the training and testing sets)."
   ],
   "id": "5fec8a45d6d25c46"
  },
  {
   "metadata": {},
   "cell_type": "markdown",
   "source": [
    "### Flatten Before Normalize\n",
    "\n",
    "MLP requires the features to be a **1D-vector**. To fit this requirement, the `28*28` images need to be flattened into a **1D-vector** and normalized to a value between `0` and `1`. The labels also need to be converted into a `1x10` array where each row is a one-hot vector."
   ],
   "id": "ac8b2a457c835e7a"
  },
  {
   "metadata": {
    "ExecuteTime": {
     "end_time": "2025-02-17T04:18:43.387968Z",
     "start_time": "2025-02-17T04:18:43.257664Z"
    }
   },
   "cell_type": "code",
   "source": [
    "# Flatten the data and normalize\n",
    "x_train = x_train.astype('float32').reshape(-1,\n",
    "                                            784) / 255.0  # Flatten the images to 1x784 arrays, -1 means that the size of that dimension is determined by the other dimensions and the provided value.\n",
    "x_test = x_test.astype('float32').reshape(-1, 784) / 255.0"
   ],
   "id": "163708651756de71",
   "outputs": [],
   "execution_count": 119
  },
  {
   "metadata": {
    "ExecuteTime": {
     "end_time": "2025-02-17T04:18:43.450853Z",
     "start_time": "2025-02-17T04:18:43.437171Z"
    }
   },
   "cell_type": "code",
   "source": [
    "# Convert labels to one-hot vectors\n",
    "y_train = tf.keras.utils.to_categorical(y_train, 10)  # Convert the labels to one-hot vectors\n",
    "y_test = tf.keras.utils.to_categorical(y_test,\n",
    "                                       10)  # One-hot encode means that each label is represented as a vector of length 10 where the index of the 1 is the value of the digit. For example, the label `5` would be `[0, 0, 0, 0, 0, 1, 0, 0, 0, 0]`."
   ],
   "id": "49cb7ff3624f2855",
   "outputs": [],
   "execution_count": 120
  },
  {
   "metadata": {
    "ExecuteTime": {
     "end_time": "2025-02-17T04:18:43.540783Z",
     "start_time": "2025-02-17T04:18:43.531999Z"
    }
   },
   "cell_type": "code",
   "source": [
    "print(y_train[:10])\n",
    "print(y_test[:10])"
   ],
   "id": "3032ef4ce59deca6",
   "outputs": [
    {
     "name": "stdout",
     "output_type": "stream",
     "text": [
      "[[0. 0. 0. 0. 0. 1. 0. 0. 0. 0.]\n",
      " [1. 0. 0. 0. 0. 0. 0. 0. 0. 0.]\n",
      " [0. 0. 0. 0. 1. 0. 0. 0. 0. 0.]\n",
      " [0. 1. 0. 0. 0. 0. 0. 0. 0. 0.]\n",
      " [0. 0. 0. 0. 0. 0. 0. 0. 0. 1.]\n",
      " [0. 0. 1. 0. 0. 0. 0. 0. 0. 0.]\n",
      " [0. 1. 0. 0. 0. 0. 0. 0. 0. 0.]\n",
      " [0. 0. 0. 1. 0. 0. 0. 0. 0. 0.]\n",
      " [0. 1. 0. 0. 0. 0. 0. 0. 0. 0.]\n",
      " [0. 0. 0. 0. 1. 0. 0. 0. 0. 0.]]\n",
      "[[0. 0. 0. 0. 0. 0. 0. 1. 0. 0.]\n",
      " [0. 0. 1. 0. 0. 0. 0. 0. 0. 0.]\n",
      " [0. 1. 0. 0. 0. 0. 0. 0. 0. 0.]\n",
      " [1. 0. 0. 0. 0. 0. 0. 0. 0. 0.]\n",
      " [0. 0. 0. 0. 1. 0. 0. 0. 0. 0.]\n",
      " [0. 1. 0. 0. 0. 0. 0. 0. 0. 0.]\n",
      " [0. 0. 0. 0. 1. 0. 0. 0. 0. 0.]\n",
      " [0. 0. 0. 0. 0. 0. 0. 0. 0. 1.]\n",
      " [0. 0. 0. 0. 0. 1. 0. 0. 0. 0.]\n",
      " [0. 0. 0. 0. 0. 0. 0. 0. 0. 1.]]\n"
     ]
    }
   ],
   "execution_count": 121
  },
  {
   "metadata": {},
   "cell_type": "markdown",
   "source": "## Create the Model",
   "id": "5a4150f90599306c"
  },
  {
   "metadata": {
    "ExecuteTime": {
     "end_time": "2025-02-17T04:18:43.689878Z",
     "start_time": "2025-02-17T04:18:43.648442Z"
    }
   },
   "cell_type": "code",
   "source": [
    "model = Sequential({\n",
    "    Dense(256, activation='relu', input_shape=(784,)),  # Create a model with 128 neurons in the first hidden layer\n",
    "    Dense(256, activation='relu'),  # Create a model with 128 neurons in the second hidden layer\n",
    "    Dense(10, activation='softmax')  # Create a model with 10 neurons in the output layer\n",
    "})"
   ],
   "id": "35943c485850fac2",
   "outputs": [],
   "execution_count": 122
  },
  {
   "metadata": {},
   "cell_type": "markdown",
   "source": "## Compile the Model",
   "id": "64d2b481fe9bebca"
  },
  {
   "metadata": {
    "ExecuteTime": {
     "end_time": "2025-02-17T04:18:43.859852Z",
     "start_time": "2025-02-17T04:18:43.838312Z"
    }
   },
   "cell_type": "code",
   "source": [
    "model.compile(optimizer='adam', loss='categorical_crossentropy', metrics=[\n",
    "    'accuracy'])  # Compile the model with the Adam optimizer, the categorical crossentropy loss function, and the accuracy metric"
   ],
   "id": "2de77231ae719da7",
   "outputs": [],
   "execution_count": 123
  },
  {
   "metadata": {},
   "cell_type": "markdown",
   "source": "## Train the Model",
   "id": "f7c2a54423ae9dd9"
  },
  {
   "metadata": {
    "ExecuteTime": {
     "end_time": "2025-02-17T04:18:44.269781Z",
     "start_time": "2025-02-17T04:18:43.918608Z"
    }
   },
   "cell_type": "code",
   "source": [
    "model.fit(x_train, y_train, epochs=20, batch_size=128,\n",
    "          validation_split=0.2)  # Train the model with 10 epochs, a batch size of 32, and a validation split of 20%. Validation split means that 20% of the training data will be used as validation data."
   ],
   "id": "9a94a83310d4e200",
   "outputs": [
    {
     "name": "stdout",
     "output_type": "stream",
     "text": [
      "Epoch 1/20\n"
     ]
    },
    {
     "ename": "ValueError",
     "evalue": "Arguments `target` and `output` must have the same shape. Received: target.shape=(128, 10), output.shape=(128, 256)",
     "output_type": "error",
     "traceback": [
      "\u001B[0;31m---------------------------------------------------------------------------\u001B[0m",
      "\u001B[0;31mValueError\u001B[0m                                Traceback (most recent call last)",
      "Cell \u001B[0;32mIn[124], line 1\u001B[0m\n\u001B[0;32m----> 1\u001B[0m \u001B[43mmodel\u001B[49m\u001B[38;5;241;43m.\u001B[39;49m\u001B[43mfit\u001B[49m\u001B[43m(\u001B[49m\u001B[43mx_train\u001B[49m\u001B[43m,\u001B[49m\u001B[43m \u001B[49m\u001B[43my_train\u001B[49m\u001B[43m,\u001B[49m\u001B[43m \u001B[49m\u001B[43mepochs\u001B[49m\u001B[38;5;241;43m=\u001B[39;49m\u001B[38;5;241;43m20\u001B[39;49m\u001B[43m,\u001B[49m\u001B[43m \u001B[49m\u001B[43mbatch_size\u001B[49m\u001B[38;5;241;43m=\u001B[39;49m\u001B[38;5;241;43m128\u001B[39;49m\u001B[43m,\u001B[49m\n\u001B[1;32m      2\u001B[0m \u001B[43m          \u001B[49m\u001B[43mvalidation_split\u001B[49m\u001B[38;5;241;43m=\u001B[39;49m\u001B[38;5;241;43m0.2\u001B[39;49m\u001B[43m)\u001B[49m  \u001B[38;5;66;03m# Train the model with 10 epochs, a batch size of 32, and a validation split of 20%. Validation split means that 20% of the training data will be used as validation data.\u001B[39;00m\n",
      "File \u001B[0;32m/usr/local/lib/python3.11/dist-packages/keras/src/utils/traceback_utils.py:122\u001B[0m, in \u001B[0;36mfilter_traceback.<locals>.error_handler\u001B[0;34m(*args, **kwargs)\u001B[0m\n\u001B[1;32m    119\u001B[0m     filtered_tb \u001B[38;5;241m=\u001B[39m _process_traceback_frames(e\u001B[38;5;241m.\u001B[39m__traceback__)\n\u001B[1;32m    120\u001B[0m     \u001B[38;5;66;03m# To get the full stack trace, call:\u001B[39;00m\n\u001B[1;32m    121\u001B[0m     \u001B[38;5;66;03m# `keras.config.disable_traceback_filtering()`\u001B[39;00m\n\u001B[0;32m--> 122\u001B[0m     \u001B[38;5;28;01mraise\u001B[39;00m e\u001B[38;5;241m.\u001B[39mwith_traceback(filtered_tb) \u001B[38;5;28;01mfrom\u001B[39;00m \u001B[38;5;28;01mNone\u001B[39;00m\n\u001B[1;32m    123\u001B[0m \u001B[38;5;28;01mfinally\u001B[39;00m:\n\u001B[1;32m    124\u001B[0m     \u001B[38;5;28;01mdel\u001B[39;00m filtered_tb\n",
      "File \u001B[0;32m/usr/local/lib/python3.11/dist-packages/keras/src/backend/tensorflow/nn.py:587\u001B[0m, in \u001B[0;36mcategorical_crossentropy\u001B[0;34m(target, output, from_logits, axis)\u001B[0m\n\u001B[1;32m    585\u001B[0m \u001B[38;5;28;01mfor\u001B[39;00m e1, e2 \u001B[38;5;129;01min\u001B[39;00m \u001B[38;5;28mzip\u001B[39m(target\u001B[38;5;241m.\u001B[39mshape, output\u001B[38;5;241m.\u001B[39mshape):\n\u001B[1;32m    586\u001B[0m     \u001B[38;5;28;01mif\u001B[39;00m e1 \u001B[38;5;129;01mis\u001B[39;00m \u001B[38;5;129;01mnot\u001B[39;00m \u001B[38;5;28;01mNone\u001B[39;00m \u001B[38;5;129;01mand\u001B[39;00m e2 \u001B[38;5;129;01mis\u001B[39;00m \u001B[38;5;129;01mnot\u001B[39;00m \u001B[38;5;28;01mNone\u001B[39;00m \u001B[38;5;129;01mand\u001B[39;00m e1 \u001B[38;5;241m!=\u001B[39m e2:\n\u001B[0;32m--> 587\u001B[0m         \u001B[38;5;28;01mraise\u001B[39;00m \u001B[38;5;167;01mValueError\u001B[39;00m(\n\u001B[1;32m    588\u001B[0m             \u001B[38;5;124m\"\u001B[39m\u001B[38;5;124mArguments `target` and `output` must have the same shape. \u001B[39m\u001B[38;5;124m\"\u001B[39m\n\u001B[1;32m    589\u001B[0m             \u001B[38;5;124m\"\u001B[39m\u001B[38;5;124mReceived: \u001B[39m\u001B[38;5;124m\"\u001B[39m\n\u001B[1;32m    590\u001B[0m             \u001B[38;5;124mf\u001B[39m\u001B[38;5;124m\"\u001B[39m\u001B[38;5;124mtarget.shape=\u001B[39m\u001B[38;5;132;01m{\u001B[39;00mtarget\u001B[38;5;241m.\u001B[39mshape\u001B[38;5;132;01m}\u001B[39;00m\u001B[38;5;124m, output.shape=\u001B[39m\u001B[38;5;132;01m{\u001B[39;00moutput\u001B[38;5;241m.\u001B[39mshape\u001B[38;5;132;01m}\u001B[39;00m\u001B[38;5;124m\"\u001B[39m\n\u001B[1;32m    591\u001B[0m         )\n\u001B[1;32m    593\u001B[0m output, from_logits \u001B[38;5;241m=\u001B[39m _get_logits(\n\u001B[1;32m    594\u001B[0m     output, from_logits, \u001B[38;5;124m\"\u001B[39m\u001B[38;5;124mSoftmax\u001B[39m\u001B[38;5;124m\"\u001B[39m, \u001B[38;5;124m\"\u001B[39m\u001B[38;5;124mcategorical_crossentropy\u001B[39m\u001B[38;5;124m\"\u001B[39m\n\u001B[1;32m    595\u001B[0m )\n\u001B[1;32m    596\u001B[0m \u001B[38;5;28;01mif\u001B[39;00m from_logits:\n",
      "\u001B[0;31mValueError\u001B[0m: Arguments `target` and `output` must have the same shape. Received: target.shape=(128, 10), output.shape=(128, 256)"
     ]
    }
   ],
   "execution_count": 124
  },
  {
   "metadata": {},
   "cell_type": "markdown",
   "source": "## Save the Model",
   "id": "7e105403ec6a037e"
  },
  {
   "metadata": {},
   "cell_type": "code",
   "source": "model.save(\"models/mnist_mlp.keras\")  # Save the model to a file",
   "id": "51f6a41c94f76741",
   "outputs": [],
   "execution_count": null
  },
  {
   "metadata": {},
   "cell_type": "markdown",
   "source": "## Evaluate the Model",
   "id": "9f1e8df193214176"
  },
  {
   "metadata": {},
   "cell_type": "code",
   "source": [
    "test_loss, test_acc = model.evaluate(x_test, y_test)\n",
    "print(\"Test Loss: \", test_loss)\n",
    "print(\"Test Accuracy: \", test_acc)"
   ],
   "id": "d2f723f9ccc8d80b",
   "outputs": [],
   "execution_count": null
  },
  {
   "metadata": {},
   "cell_type": "markdown",
   "source": "## Make Predictions",
   "id": "5468a24fdabb8f0f"
  },
  {
   "metadata": {},
   "cell_type": "code",
   "source": [
    "from PIL import Image\n",
    "import os\n",
    "import glob\n",
    "\n",
    "\n",
    "def predict_handwriting(model_path, image_folder):\n",
    "    # 加载训练好的模型\n",
    "    saved_model = tf.keras.models.load_model(model_path)\n",
    "\n",
    "    # 获取所有图片路径\n",
    "    image_paths = glob.glob(os.path.join(image_folder, \"*.png\")) + \\\n",
    "                  glob.glob(os.path.join(image_folder, \"*.jpg\")) + \\\n",
    "                  glob.glob(os.path.join(image_folder, \"*.jpeg\"))\n",
    "\n",
    "    if not image_paths:\n",
    "        print(f\"No images found in {image_folder}\")\n",
    "        return\n",
    "\n",
    "    # 创建可视化布局（每行最多5张）\n",
    "    num_images = len(image_paths)\n",
    "    cols = 5\n",
    "    rows = int(np.ceil(num_images / cols))\n",
    "    fig, axes = plt.subplots(rows, cols, figsize=(20, rows * 3))\n",
    "    if rows == 1:\n",
    "        axes = axes.reshape(1, -1)  # 处理单行情况\n",
    "\n",
    "    # 设置全局标题\n",
    "    fig.suptitle(\"Handwriting Digit Recognition Results\", fontsize=16, y=1.02)\n",
    "\n",
    "    for idx, img_path in enumerate(image_paths):\n",
    "        try:\n",
    "            # 预处理图像（匹配MNIST格式）\n",
    "            img = Image.open(img_path).convert('L')  # 转为灰度\n",
    "            img = img.resize((28, 28))  # 调整尺寸\n",
    "            img_array = np.array(img)  # 转为numpy数组\n",
    "\n",
    "            # 标准化处理（反转颜色 + 归一化）\n",
    "            img_array = (255 - img_array) / 255.0  # 假设输入是黑底白字\n",
    "            # img_array = img_array / 255.0  # 假设输入是白底黑字\n",
    "\n",
    "            # 适配MLP模型输入形状 (1, 784)\n",
    "            input_data = img_array.astype(\"float32\").reshape(1, 784)\n",
    "\n",
    "            # 进行预测\n",
    "            predictions = saved_model.predict(input_data, verbose=0)\n",
    "            pred_class = np.argmax(predictions)\n",
    "            confidence = np.max(predictions)\n",
    "\n",
    "            # 绘制结果\n",
    "            ax = axes[idx // cols, idx % cols]\n",
    "            ax.imshow(img, cmap='gray')  # 显示原始尺寸图像\n",
    "            ax.set_title(f\"Pred: {pred_class}\\nProb: {confidence:.2f}\")\n",
    "            ax.axis(\"off\")\n",
    "\n",
    "        except Exception as e:\n",
    "            print(f\"Error processing {os.path.basename(img_path)}: {str(e)}\")\n",
    "\n",
    "    # 隐藏空白子图\n",
    "    for j in range(len(image_paths), rows * cols):\n",
    "        axes[j // cols, j % cols].axis(\"off\")\n",
    "\n",
    "    plt.tight_layout()\n",
    "    plt.show()"
   ],
   "id": "af69b653214c47da",
   "outputs": [],
   "execution_count": null
  },
  {
   "metadata": {},
   "cell_type": "code",
   "source": [
    "# 使用示例\n",
    "predict_handwriting(\n",
    "    model_path=\"models/mnist_mlp.keras\",\n",
    "    image_folder=\"images/handwriting\"\n",
    ")"
   ],
   "id": "139c905209c1e53c",
   "outputs": [],
   "execution_count": null
  }
 ],
 "metadata": {
  "kernelspec": {
   "display_name": "Python 3",
   "language": "python",
   "name": "python3"
  },
  "language_info": {
   "codemirror_mode": {
    "name": "ipython",
    "version": 2
   },
   "file_extension": ".py",
   "mimetype": "text/x-python",
   "name": "python",
   "nbconvert_exporter": "python",
   "pygments_lexer": "ipython2",
   "version": "2.7.6"
  }
 },
 "nbformat": 4,
 "nbformat_minor": 5
}
