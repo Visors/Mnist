{
 "cells": [
  {
   "metadata": {},
   "cell_type": "markdown",
   "source": "# Mnist MLP",
   "id": "a054e699655ba5c"
  },
  {
   "metadata": {},
   "cell_type": "markdown",
   "source": "## Keras",
   "id": "e26e6ac09a02f875"
  },
  {
   "metadata": {},
   "cell_type": "markdown",
   "source": "### Import Modules",
   "id": "912b6a187a1f1e64"
  },
  {
   "metadata": {},
   "cell_type": "code",
   "source": [
    "import tensorflow as tf\n",
    "import matplotlib.pyplot as plt\n",
    "from tensorflow.keras.datasets import mnist\n",
    "from tensorflow.keras.layers import Dense\n",
    "from tensorflow.keras.models import Sequential"
   ],
   "id": "dbd52efbe103d40d",
   "outputs": [],
   "execution_count": null
  },
  {
   "metadata": {},
   "cell_type": "markdown",
   "source": [
    "### Load Data\n",
    "\n",
    "Load the MNIST dataset using the Keras API. Visualize some of the data."
   ],
   "id": "c5bab92b319b3156"
  },
  {
   "metadata": {},
   "cell_type": "code",
   "outputs": [],
   "execution_count": null,
   "source": [
    "# Load the MNIST dataset\n",
    "(x_train, y_train), (x_test, y_test) = mnist.load_data()\n",
    "\n",
    "\n",
    "# Visualize some of the data\n",
    "def plot_images(images, labels, title):\n",
    "    plt.figure(figsize=(10, 1))\n",
    "    for i in range(10):\n",
    "        plt.subplot(1, 10, i + 1)\n",
    "        plt.imshow(images[i], cmap='gray')\n",
    "        plt.title(labels[i])\n",
    "        plt.axis('off')\n",
    "    plt.show()"
   ],
   "id": "4b2b1a3becaadb74"
  },
  {
   "metadata": {},
   "cell_type": "markdown",
   "source": "### Preprocess Data",
   "id": "5fec8a45d6d25c46"
  },
  {
   "metadata": {},
   "cell_type": "code",
   "outputs": [],
   "execution_count": null,
   "source": [
    "# Normalize the data\n",
    "x_train = x_train / 255.0\n",
    "x_test = x_test / 255.0"
   ],
   "id": "441c62dab6645a15"
  }
 ],
 "metadata": {
  "kernelspec": {
   "display_name": "Python 3",
   "language": "python",
   "name": "python3"
  },
  "language_info": {
   "codemirror_mode": {
    "name": "ipython",
    "version": 2
   },
   "file_extension": ".py",
   "mimetype": "text/x-python",
   "name": "python",
   "nbconvert_exporter": "python",
   "pygments_lexer": "ipython2",
   "version": "2.7.6"
  }
 },
 "nbformat": 4,
 "nbformat_minor": 5
}
